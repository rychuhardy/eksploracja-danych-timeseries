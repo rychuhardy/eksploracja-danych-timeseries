{
 "cells": [
  {
   "cell_type": "code",
   "execution_count": null,
   "metadata": {},
   "outputs": [],
   "source": [
    "import pandas as pd\n",
    "import numpy as np\n",
    "import warnings\n",
    "from matplotlib import pyplot\n",
    "#from pandas import read_csv, set_option\n",
    "from pandas import Series, datetime\n",
    "from pandas.tools.plotting import scatter_matrix, autocorrelation_plot\n",
    "from sklearn.preprocessing import StandardScaler\n",
    "from sklearn.model_selection import train_test_split, KFold, cross_val_score, GridSearchCV, TimeSeriesSplit\n",
    "from sklearn.metrics import classification_report, confusion_matrix, accuracy_score, mean_squared_error\n",
    "from sklearn.pipeline import Pipeline\n",
    "from sklearn.linear_model import LogisticRegression\n",
    "from sklearn.tree import DecisionTreeClassifier\n",
    "from sklearn.neighbors import KNeighborsClassifier\n",
    "from sklearn.discriminant_analysis import LinearDiscriminantAnalysis\n",
    "from sklearn.naive_bayes import GaussianNB\n",
    "from sklearn.svm import SVC\n",
    "from sklearn.ensemble import AdaBoostClassifier, GradientBoostingClassifier, RandomForestClassifier, ExtraTreesClassifier\n",
    "from sklearn.metrics import roc_curve, auc\n",
    "import matplotlib.pyplot as plt\n",
    "import random\n",
    "from statsmodels.graphics.tsaplots import plot_acf, plot_pacf\n",
    "from statsmodels.tsa.arima_model import ARIMA\n",
    "import seaborn as sns\n",
    "import pandas as pd\n",
    "import matplotlib.pyplot as plt\n",
    "import xgboost as xgb\n",
    "from sklearn.metrics import accuracy_score"
   ]
  },
  {
   "cell_type": "code",
   "execution_count": 3,
   "metadata": {},
   "outputs": [
    {
     "data": {
      "text/html": [
       "<div>\n",
       "<style>\n",
       "    .dataframe thead tr:only-child th {\n",
       "        text-align: right;\n",
       "    }\n",
       "\n",
       "    .dataframe thead th {\n",
       "        text-align: left;\n",
       "    }\n",
       "\n",
       "    .dataframe tbody tr th {\n",
       "        vertical-align: top;\n",
       "    }\n",
       "</style>\n",
       "<table border=\"1\" class=\"dataframe\">\n",
       "  <thead>\n",
       "    <tr style=\"text-align: right;\">\n",
       "      <th></th>\n",
       "      <th>Open</th>\n",
       "      <th>High</th>\n",
       "      <th>Low</th>\n",
       "      <th>Close</th>\n",
       "      <th>Volume</th>\n",
       "    </tr>\n",
       "    <tr>\n",
       "      <th>Time</th>\n",
       "      <th></th>\n",
       "      <th></th>\n",
       "      <th></th>\n",
       "      <th></th>\n",
       "      <th></th>\n",
       "    </tr>\n",
       "  </thead>\n",
       "  <tbody>\n",
       "    <tr>\n",
       "      <th>2010-01-01 00:00:00</th>\n",
       "      <td>1.43283</td>\n",
       "      <td>1.43293</td>\n",
       "      <td>1.43224</td>\n",
       "      <td>1.43293</td>\n",
       "      <td>608600007.1</td>\n",
       "    </tr>\n",
       "    <tr>\n",
       "      <th>2010-01-01 00:15:00</th>\n",
       "      <td>1.43285</td>\n",
       "      <td>1.43295</td>\n",
       "      <td>1.43229</td>\n",
       "      <td>1.43275</td>\n",
       "      <td>535600003.2</td>\n",
       "    </tr>\n",
       "    <tr>\n",
       "      <th>2010-01-01 00:30:00</th>\n",
       "      <td>1.43280</td>\n",
       "      <td>1.43303</td>\n",
       "      <td>1.43239</td>\n",
       "      <td>1.43281</td>\n",
       "      <td>436299999.2</td>\n",
       "    </tr>\n",
       "    <tr>\n",
       "      <th>2010-01-01 00:45:00</th>\n",
       "      <td>1.43285</td>\n",
       "      <td>1.43294</td>\n",
       "      <td>1.43229</td>\n",
       "      <td>1.43276</td>\n",
       "      <td>614299997.3</td>\n",
       "    </tr>\n",
       "    <tr>\n",
       "      <th>2010-01-01 01:00:00</th>\n",
       "      <td>1.43287</td>\n",
       "      <td>1.43292</td>\n",
       "      <td>1.43206</td>\n",
       "      <td>1.43282</td>\n",
       "      <td>705300008.8</td>\n",
       "    </tr>\n",
       "  </tbody>\n",
       "</table>\n",
       "</div>"
      ],
      "text/plain": [
       "                        Open     High      Low    Close       Volume\n",
       "Time                                                                \n",
       "2010-01-01 00:00:00  1.43283  1.43293  1.43224  1.43293  608600007.1\n",
       "2010-01-01 00:15:00  1.43285  1.43295  1.43229  1.43275  535600003.2\n",
       "2010-01-01 00:30:00  1.43280  1.43303  1.43239  1.43281  436299999.2\n",
       "2010-01-01 00:45:00  1.43285  1.43294  1.43229  1.43276  614299997.3\n",
       "2010-01-01 01:00:00  1.43287  1.43292  1.43206  1.43282  705300008.8"
      ]
     },
     "execution_count": 3,
     "metadata": {},
     "output_type": "execute_result"
    }
   ],
   "source": [
    "eur_usd = pd.read_csv('./data/EUR_USD_exchange_rate.csv', index_col='Time', parse_dates=['Time'])\n",
    "eur_usd.head()"
   ]
  },
  {
   "cell_type": "code",
   "execution_count": 4,
   "metadata": {},
   "outputs": [
    {
     "name": "stdout",
     "output_type": "stream",
     "text": [
      "(245444, 5)\n",
      "Open      float64\n",
      "High      float64\n",
      "Low       float64\n",
      "Close     float64\n",
      "Volume    float64\n",
      "dtype: object\n"
     ]
    }
   ],
   "source": [
    "print(eur_usd.shape)\n",
    "print(eur_usd.dtypes)"
   ]
  },
  {
   "cell_type": "code",
   "execution_count": 5,
   "metadata": {},
   "outputs": [
    {
     "name": "stdout",
     "output_type": "stream",
     "text": [
      "                Open           High            Low          Close  \\\n",
      "count  245444.000000  245444.000000  245444.000000  245444.000000   \n",
      "mean        1.268372       1.268738       1.268003       1.268371   \n",
      "std         0.112994       0.113017       0.112965       0.112994   \n",
      "min         1.035580       1.036280       1.035230       1.035600   \n",
      "25%         1.135350       1.135660       1.134870       1.135348   \n",
      "50%         1.302350       1.302740       1.302100       1.302350   \n",
      "75%         1.356560       1.356980       1.356082       1.356552   \n",
      "max         1.493230       1.493980       1.491850       1.493240   \n",
      "\n",
      "             Volume  \n",
      "count  2.454440e+05  \n",
      "mean   1.624311e+09  \n",
      "std    2.320694e+09  \n",
      "min    0.000000e+00  \n",
      "25%    0.000000e+00  \n",
      "50%    9.801100e+08  \n",
      "75%    2.316977e+09  \n",
      "max    3.779797e+10  \n"
     ]
    }
   ],
   "source": [
    "print(eur_usd.describe())"
   ]
  },
  {
   "cell_type": "code",
   "execution_count": 6,
   "metadata": {},
   "outputs": [
    {
     "data": {
      "image/png": "[encoded data removed]",
      "text/plain": [
       "<matplotlib.figure.Figure at 0x1bedafb01d0>"
      ]
     },
     "metadata": {},
     "output_type": "display_data"
    }
   ],
   "source": [
    "sns.set()\n",
    "eur_usd.hist(sharex=False, sharey=False, xlabelsize=4, ylabelsize=4, figsize=(10,10))\n",
    "pyplot.show()"
   ]
  },
  {
   "cell_type": "code",
   "execution_count": 7,
   "metadata": {},
   "outputs": [
    {
     "data": {
      "image/png": "[encoded data removed]",
      "text/plain": [
       "<matplotlib.figure.Figure at 0x1bedbdefb38>"
      ]
     },
     "metadata": {},
     "output_type": "display_data"
    }
   ],
   "source": [
    "colormap = pyplot.cm.afmhot\n",
    "pyplot.figure(figsize=(16,12))\n",
    "pyplot.title('Pearson correlation of continuous features', y=1.05, size=15)\n",
    "sns.heatmap(eur_usd.corr(),linewidths=0.1,vmax=1.0, square=True, \n",
    "            cmap=colormap, linecolor='white', annot=True)\n",
    "pyplot.show()"
   ]
  },
  {
   "cell_type": "code",
   "execution_count": 19,
   "metadata": {},
   "outputs": [],
   "source": [
    "training = eur_usd[:'2015']\n",
    "to_predict = eur_usd['2016']"
   ]
  },
  {
   "cell_type": "code",
   "execution_count": 45,
   "metadata": {},
   "outputs": [],
   "source": [
    "# 96 rows per day\n",
    "# 2 day simple moving average == SMA2\n",
    "Predictors = pd.DataFrame({\"sma2\":eur_usd.Open.rolling(window=2).mean()})\n",
    "\n",
    "Predictors[\"sma2_1\"] = Predictors.sma2.shift(1)\n",
    "\n",
    "Predictors[\"sma2_increment\"] = Predictors.sma2.diff()  \n",
    " \n",
    "Predictors[\"sma2_1_increment\"] = Predictors.sma2_1.diff()  \n",
    " \n",
    "Predictors[\"vol_increment\"] = eur_usd.Volume.diff()\n",
    " \n",
    "Predictors[\"vol_rel_increment\"] = eur_usd.Volume.diff() / eur_usd.Volume\n",
    " \n",
    "Predictors[\"open_1\"] = eur_usd.Open.shift(1)\n",
    " \n",
    "Predictors[\"open_incr\"] = eur_usd.Open - eur_usd.Open.shift(1)\n",
    " \n",
    "Predictors[\"open\"] = eur_usd.Open\n",
    " \n",
    "# The rows with nulls generated by rolling values will be removed.\n",
    "Predictors = Predictors.dropna()"
   ]
  },
  {
   "cell_type": "code",
   "execution_count": 47,
   "metadata": {},
   "outputs": [
    {
     "data": {
      "text/html": [
       "<div>\n",
       "<style>\n",
       "    .dataframe thead tr:only-child th {\n",
       "        text-align: right;\n",
       "    }\n",
       "\n",
       "    .dataframe thead th {\n",
       "        text-align: left;\n",
       "    }\n",
       "\n",
       "    .dataframe tbody tr th {\n",
       "        vertical-align: top;\n",
       "    }\n",
       "</style>\n",
       "<table border=\"1\" class=\"dataframe\">\n",
       "  <thead>\n",
       "    <tr style=\"text-align: right;\">\n",
       "      <th></th>\n",
       "      <th>sma2</th>\n",
       "      <th>sma2_1</th>\n",
       "      <th>sma2_increment</th>\n",
       "      <th>sma2_1_increment</th>\n",
       "      <th>vol_increment</th>\n",
       "      <th>vol_rel_increment</th>\n",
       "      <th>open_1</th>\n",
       "      <th>open_incr</th>\n",
       "      <th>open</th>\n",
       "    </tr>\n",
       "    <tr>\n",
       "      <th>Time</th>\n",
       "      <th></th>\n",
       "      <th></th>\n",
       "      <th></th>\n",
       "      <th></th>\n",
       "      <th></th>\n",
       "      <th></th>\n",
       "      <th></th>\n",
       "      <th></th>\n",
       "      <th></th>\n",
       "    </tr>\n",
       "  </thead>\n",
       "  <tbody>\n",
       "    <tr>\n",
       "      <th>2010-01-01 00:45:00</th>\n",
       "      <td>1.432825</td>\n",
       "      <td>1.432825</td>\n",
       "      <td>0.000000</td>\n",
       "      <td>-0.000015</td>\n",
       "      <td>177999998.1</td>\n",
       "      <td>0.289761</td>\n",
       "      <td>1.43280</td>\n",
       "      <td>0.00005</td>\n",
       "      <td>1.43285</td>\n",
       "    </tr>\n",
       "    <tr>\n",
       "      <th>2010-01-01 01:00:00</th>\n",
       "      <td>1.432860</td>\n",
       "      <td>1.432825</td>\n",
       "      <td>0.000035</td>\n",
       "      <td>0.000000</td>\n",
       "      <td>91000011.5</td>\n",
       "      <td>0.129023</td>\n",
       "      <td>1.43285</td>\n",
       "      <td>0.00002</td>\n",
       "      <td>1.43287</td>\n",
       "    </tr>\n",
       "    <tr>\n",
       "      <th>2010-01-01 01:15:00</th>\n",
       "      <td>1.432885</td>\n",
       "      <td>1.432860</td>\n",
       "      <td>0.000025</td>\n",
       "      <td>0.000035</td>\n",
       "      <td>-278000002.9</td>\n",
       "      <td>-0.650597</td>\n",
       "      <td>1.43287</td>\n",
       "      <td>0.00003</td>\n",
       "      <td>1.43290</td>\n",
       "    </tr>\n",
       "    <tr>\n",
       "      <th>2010-01-01 01:30:00</th>\n",
       "      <td>1.432785</td>\n",
       "      <td>1.432885</td>\n",
       "      <td>-0.000100</td>\n",
       "      <td>0.000025</td>\n",
       "      <td>-28100005.1</td>\n",
       "      <td>-0.070391</td>\n",
       "      <td>1.43290</td>\n",
       "      <td>-0.00023</td>\n",
       "      <td>1.43267</td>\n",
       "    </tr>\n",
       "    <tr>\n",
       "      <th>2010-01-01 01:45:00</th>\n",
       "      <td>1.432735</td>\n",
       "      <td>1.432785</td>\n",
       "      <td>-0.000050</td>\n",
       "      <td>-0.000100</td>\n",
       "      <td>82000007.6</td>\n",
       "      <td>0.170407</td>\n",
       "      <td>1.43267</td>\n",
       "      <td>0.00013</td>\n",
       "      <td>1.43280</td>\n",
       "    </tr>\n",
       "  </tbody>\n",
       "</table>\n",
       "</div>"
      ],
      "text/plain": [
       "                         sma2    sma2_1  sma2_increment  sma2_1_increment  \\\n",
       "Time                                                                        \n",
       "2010-01-01 00:45:00  1.432825  1.432825        0.000000         -0.000015   \n",
       "2010-01-01 01:00:00  1.432860  1.432825        0.000035          0.000000   \n",
       "2010-01-01 01:15:00  1.432885  1.432860        0.000025          0.000035   \n",
       "2010-01-01 01:30:00  1.432785  1.432885       -0.000100          0.000025   \n",
       "2010-01-01 01:45:00  1.432735  1.432785       -0.000050         -0.000100   \n",
       "\n",
       "                     vol_increment  vol_rel_increment   open_1  open_incr  \\\n",
       "Time                                                                        \n",
       "2010-01-01 00:45:00    177999998.1           0.289761  1.43280    0.00005   \n",
       "2010-01-01 01:00:00     91000011.5           0.129023  1.43285    0.00002   \n",
       "2010-01-01 01:15:00   -278000002.9          -0.650597  1.43287    0.00003   \n",
       "2010-01-01 01:30:00    -28100005.1          -0.070391  1.43290   -0.00023   \n",
       "2010-01-01 01:45:00     82000007.6           0.170407  1.43267    0.00013   \n",
       "\n",
       "                        open  \n",
       "Time                          \n",
       "2010-01-01 00:45:00  1.43285  \n",
       "2010-01-01 01:00:00  1.43287  \n",
       "2010-01-01 01:15:00  1.43290  \n",
       "2010-01-01 01:30:00  1.43267  \n",
       "2010-01-01 01:45:00  1.43280  "
      ]
     },
     "execution_count": 47,
     "metadata": {},
     "output_type": "execute_result"
    }
   ],
   "source": [
    "Predictors.head()\n"
   ]
  },
  {
   "cell_type": "code",
   "execution_count": 48,
   "metadata": {},
   "outputs": [],
   "source": [
    "target = pd.DataFrame({\"value\":Predictors.sma2.shift(-1) - Predictors.sma2}).dropna()"
   ]
  },
  {
   "cell_type": "code",
   "execution_count": 49,
   "metadata": {},
   "outputs": [],
   "source": [
    "X = pd.merge(Predictors, target,left_index=True,right_index=True)[Predictors.columns]\n",
    "y = pd.merge(Predictors, target,left_index=True,right_index=True)[target.columns]"
   ]
  },
  {
   "cell_type": "code",
   "execution_count": 50,
   "metadata": {},
   "outputs": [],
   "source": [
    "train_samples = int(X.shape[0] * 0.65)\n",
    " \n",
    "X_train = X.iloc[:train_samples]\n",
    "X_test = X.iloc[train_samples:]\n",
    " \n",
    "y_train = y.iloc[:train_samples]\n",
    "y_test = y.iloc[train_samples:]"
   ]
  },
  {
   "cell_type": "code",
   "execution_count": 52,
   "metadata": {},
   "outputs": [],
   "source": [
    "def getBinary(val):\n",
    "    if val>0:\n",
    "        return 1\n",
    "    else:\n",
    "        return 0\n",
    "\n",
    "y_test_binary = pd.DataFrame(y_test[\"value\"].apply(getBinary))"
   ]
  },
  {
   "cell_type": "code",
   "execution_count": 55,
   "metadata": {},
   "outputs": [
    {
     "name": "stdout",
     "output_type": "stream",
     "text": [
      "0.7394191548376571\n"
     ]
    }
   ],
   "source": [
    "regressor = xgb.XGBRegressor(gamma=0.0,n_estimators=150,base_score=0.7,colsample_bytree=1,learning_rate=0.01)\n",
    " \n",
    "xgbModel = regressor.fit(X_train,y_train.value.apply(getBinary))\n",
    " \n",
    "y_predicted = xgbModel.predict(X_test)\n",
    "y_predicted_binary = [1 if yp >=0.5 else 0 for yp in y_predicted]\n",
    " \n",
    "print (accuracy_score(y_test_binary,y_predicted_binary))"
   ]
  },
  {
   "cell_type": "code",
   "execution_count": null,
   "metadata": {},
   "outputs": [],
   "source": []
  }
 ],
 "metadata": {
  "kernelspec": {
   "display_name": "Python 3",
   "language": "python",
   "name": "python3"
  },
  "language_info": {
   "codemirror_mode": {
    "name": "ipython",
    "version": 3
   },
   "file_extension": ".py",
   "mimetype": "text/x-python",
   "name": "python",
   "nbconvert_exporter": "python",
   "pygments_lexer": "ipython3",
   "version": "3.6.2"
  }
 },
 "nbformat": 4,
 "nbformat_minor": 2
}
