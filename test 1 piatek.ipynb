{
 "cells": [
  {
   "cell_type": "code",
   "execution_count": 1,
   "metadata": {},
   "outputs": [
    {
     "name": "stderr",
     "output_type": "stream",
     "text": [
      "C:\\Program Files (x86)\\Microsoft Visual Studio\\Shared\\Anaconda3_64\\lib\\site-packages\\statsmodels\\compat\\pandas.py:56: FutureWarning: The pandas.core.datetools module is deprecated and will be removed in a future version. Please use the pandas.tseries module instead.\n",
      "  from pandas.core import datetools\n"
     ]
    }
   ],
   "source": [
    "import pandas as pd\n",
    "import numpy as np\n",
    "import warnings\n",
    "from matplotlib import pyplot\n",
    "#from pandas import read_csv, set_option\n",
    "from pandas import Series, datetime\n",
    "from pandas.tools.plotting import scatter_matrix, autocorrelation_plot\n",
    "from sklearn.preprocessing import StandardScaler\n",
    "from sklearn.model_selection import train_test_split, KFold, cross_val_score, GridSearchCV, TimeSeriesSplit\n",
    "from sklearn.metrics import classification_report, confusion_matrix, accuracy_score, mean_squared_error\n",
    "from sklearn.pipeline import Pipeline\n",
    "from sklearn.linear_model import LogisticRegression\n",
    "from sklearn.tree import DecisionTreeClassifier\n",
    "from sklearn.neighbors import KNeighborsClassifier\n",
    "from sklearn.discriminant_analysis import LinearDiscriminantAnalysis\n",
    "from sklearn.naive_bayes import GaussianNB\n",
    "from sklearn.svm import SVC\n",
    "from sklearn.ensemble import AdaBoostClassifier, GradientBoostingClassifier, RandomForestClassifier, ExtraTreesClassifier\n",
    "from sklearn.metrics import roc_curve, auc\n",
    "import matplotlib.pyplot as plt\n",
    "import random\n",
    "from statsmodels.graphics.tsaplots import plot_acf, plot_pacf\n",
    "from statsmodels.tsa.arima_model import ARIMA\n",
    "import seaborn as sns\n",
    "import pandas as pd\n",
    "import matplotlib.pyplot as plt\n",
    "import xgboost as xgb\n",
    "from sklearn.metrics import accuracy_score"
   ]
  },
  {
   "cell_type": "code",
   "execution_count": 2,
   "metadata": {},
   "outputs": [
    {
     "data": {
      "text/html": [
       "<div>\n",
       "<style>\n",
       "    .dataframe thead tr:only-child th {\n",
       "        text-align: right;\n",
       "    }\n",
       "\n",
       "    .dataframe thead th {\n",
       "        text-align: left;\n",
       "    }\n",
       "\n",
       "    .dataframe tbody tr th {\n",
       "        vertical-align: top;\n",
       "    }\n",
       "</style>\n",
       "<table border=\"1\" class=\"dataframe\">\n",
       "  <thead>\n",
       "    <tr style=\"text-align: right;\">\n",
       "      <th></th>\n",
       "      <th>Open</th>\n",
       "      <th>High</th>\n",
       "      <th>Low</th>\n",
       "      <th>Close</th>\n",
       "      <th>Volume</th>\n",
       "    </tr>\n",
       "    <tr>\n",
       "      <th>Time</th>\n",
       "      <th></th>\n",
       "      <th></th>\n",
       "      <th></th>\n",
       "      <th></th>\n",
       "      <th></th>\n",
       "    </tr>\n",
       "  </thead>\n",
       "  <tbody>\n",
       "    <tr>\n",
       "      <th>2010-01-01 00:00:00</th>\n",
       "      <td>1.43283</td>\n",
       "      <td>1.43293</td>\n",
       "      <td>1.43224</td>\n",
       "      <td>1.43293</td>\n",
       "      <td>608600007.1</td>\n",
       "    </tr>\n",
       "    <tr>\n",
       "      <th>2010-01-01 00:15:00</th>\n",
       "      <td>1.43285</td>\n",
       "      <td>1.43295</td>\n",
       "      <td>1.43229</td>\n",
       "      <td>1.43275</td>\n",
       "      <td>535600003.2</td>\n",
       "    </tr>\n",
       "    <tr>\n",
       "      <th>2010-01-01 00:30:00</th>\n",
       "      <td>1.43280</td>\n",
       "      <td>1.43303</td>\n",
       "      <td>1.43239</td>\n",
       "      <td>1.43281</td>\n",
       "      <td>436299999.2</td>\n",
       "    </tr>\n",
       "    <tr>\n",
       "      <th>2010-01-01 00:45:00</th>\n",
       "      <td>1.43285</td>\n",
       "      <td>1.43294</td>\n",
       "      <td>1.43229</td>\n",
       "      <td>1.43276</td>\n",
       "      <td>614299997.3</td>\n",
       "    </tr>\n",
       "    <tr>\n",
       "      <th>2010-01-01 01:00:00</th>\n",
       "      <td>1.43287</td>\n",
       "      <td>1.43292</td>\n",
       "      <td>1.43206</td>\n",
       "      <td>1.43282</td>\n",
       "      <td>705300008.8</td>\n",
       "    </tr>\n",
       "  </tbody>\n",
       "</table>\n",
       "</div>"
      ],
      "text/plain": [
       "                        Open     High      Low    Close       Volume\n",
       "Time                                                                \n",
       "2010-01-01 00:00:00  1.43283  1.43293  1.43224  1.43293  608600007.1\n",
       "2010-01-01 00:15:00  1.43285  1.43295  1.43229  1.43275  535600003.2\n",
       "2010-01-01 00:30:00  1.43280  1.43303  1.43239  1.43281  436299999.2\n",
       "2010-01-01 00:45:00  1.43285  1.43294  1.43229  1.43276  614299997.3\n",
       "2010-01-01 01:00:00  1.43287  1.43292  1.43206  1.43282  705300008.8"
      ]
     },
     "execution_count": 2,
     "metadata": {},
     "output_type": "execute_result"
    }
   ],
   "source": [
    "eur_usd = pd.read_csv('./data/EUR_USD_exchange_rate.csv', index_col='Time', parse_dates=['Time'])\n",
    "eur_usd.head()"
   ]
  },
  {
   "cell_type": "code",
   "execution_count": 3,
   "metadata": {},
   "outputs": [
    {
     "name": "stdout",
     "output_type": "stream",
     "text": [
      "(245444, 5)\n",
      "Open      float64\n",
      "High      float64\n",
      "Low       float64\n",
      "Close     float64\n",
      "Volume    float64\n",
      "dtype: object\n"
     ]
    }
   ],
   "source": [
    "print(eur_usd.shape)\n",
    "print(eur_usd.dtypes)"
   ]
  },
  {
   "cell_type": "code",
   "execution_count": 4,
   "metadata": {},
   "outputs": [
    {
     "name": "stdout",
     "output_type": "stream",
     "text": [
      "                Open           High            Low          Close  \\\n",
      "count  245444.000000  245444.000000  245444.000000  245444.000000   \n",
      "mean        1.268372       1.268738       1.268003       1.268371   \n",
      "std         0.112994       0.113017       0.112965       0.112994   \n",
      "min         1.035580       1.036280       1.035230       1.035600   \n",
      "25%         1.135350       1.135660       1.134870       1.135348   \n",
      "50%         1.302350       1.302740       1.302100       1.302350   \n",
      "75%         1.356560       1.356980       1.356082       1.356552   \n",
      "max         1.493230       1.493980       1.491850       1.493240   \n",
      "\n",
      "             Volume  \n",
      "count  2.454440e+05  \n",
      "mean   1.624311e+09  \n",
      "std    2.320694e+09  \n",
      "min    0.000000e+00  \n",
      "25%    0.000000e+00  \n",
      "50%    9.801100e+08  \n",
      "75%    2.316977e+09  \n",
      "max    3.779797e+10  \n"
     ]
    }
   ],
   "source": [
    "print(eur_usd.describe())"
   ]
  },
  {
   "cell_type": "code",
   "execution_count": 21,
   "metadata": {},
   "outputs": [
    {
     "name": "stdout",
     "output_type": "stream",
     "text": [
      "(2557, 5)\n",
      "Open      float64\n",
      "High      float64\n",
      "Low       float64\n",
      "Close     float64\n",
      "Volume    float64\n",
      "dtype: object\n"
     ]
    },
    {
     "data": {
      "text/html": [
       "<div>\n",
       "<style>\n",
       "    .dataframe thead tr:only-child th {\n",
       "        text-align: right;\n",
       "    }\n",
       "\n",
       "    .dataframe thead th {\n",
       "        text-align: left;\n",
       "    }\n",
       "\n",
       "    .dataframe tbody tr th {\n",
       "        vertical-align: top;\n",
       "    }\n",
       "</style>\n",
       "<table border=\"1\" class=\"dataframe\">\n",
       "  <thead>\n",
       "    <tr style=\"text-align: right;\">\n",
       "      <th></th>\n",
       "      <th>Open</th>\n",
       "      <th>High</th>\n",
       "      <th>Low</th>\n",
       "      <th>Close</th>\n",
       "      <th>Volume</th>\n",
       "    </tr>\n",
       "    <tr>\n",
       "      <th>Time</th>\n",
       "      <th></th>\n",
       "      <th></th>\n",
       "      <th></th>\n",
       "      <th></th>\n",
       "      <th></th>\n",
       "    </tr>\n",
       "  </thead>\n",
       "  <tbody>\n",
       "    <tr>\n",
       "      <th>2010-01-01</th>\n",
       "      <td>1.433060</td>\n",
       "      <td>1.433316</td>\n",
       "      <td>1.432669</td>\n",
       "      <td>1.433058</td>\n",
       "      <td>7.998688e+08</td>\n",
       "    </tr>\n",
       "    <tr>\n",
       "      <th>2010-01-02</th>\n",
       "      <td>1.433350</td>\n",
       "      <td>1.433350</td>\n",
       "      <td>1.433350</td>\n",
       "      <td>1.433350</td>\n",
       "      <td>0.000000e+00</td>\n",
       "    </tr>\n",
       "    <tr>\n",
       "      <th>2010-01-03</th>\n",
       "      <td>1.433221</td>\n",
       "      <td>1.433288</td>\n",
       "      <td>1.433168</td>\n",
       "      <td>1.433237</td>\n",
       "      <td>3.126667e+07</td>\n",
       "    </tr>\n",
       "    <tr>\n",
       "      <th>2010-01-04</th>\n",
       "      <td>1.436392</td>\n",
       "      <td>1.437289</td>\n",
       "      <td>1.435604</td>\n",
       "      <td>1.436509</td>\n",
       "      <td>8.335354e+08</td>\n",
       "    </tr>\n",
       "    <tr>\n",
       "      <th>2010-01-05</th>\n",
       "      <td>1.440934</td>\n",
       "      <td>1.441628</td>\n",
       "      <td>1.440109</td>\n",
       "      <td>1.440874</td>\n",
       "      <td>8.321573e+08</td>\n",
       "    </tr>\n",
       "  </tbody>\n",
       "</table>\n",
       "</div>"
      ],
      "text/plain": [
       "                Open      High       Low     Close        Volume\n",
       "Time                                                            \n",
       "2010-01-01  1.433060  1.433316  1.432669  1.433058  7.998688e+08\n",
       "2010-01-02  1.433350  1.433350  1.433350  1.433350  0.000000e+00\n",
       "2010-01-03  1.433221  1.433288  1.433168  1.433237  3.126667e+07\n",
       "2010-01-04  1.436392  1.437289  1.435604  1.436509  8.335354e+08\n",
       "2010-01-05  1.440934  1.441628  1.440109  1.440874  8.321573e+08"
      ]
     },
     "execution_count": 21,
     "metadata": {},
     "output_type": "execute_result"
    }
   ],
   "source": [
    "eur_usd_daily =  eur_usd.resample('D', convention='start').mean()\n",
    "print(eur_usd_daily.shape)\n",
    "print(eur_usd_daily.dtypes)\n",
    "eur_usd_daily.head()"
   ]
  },
  {
   "cell_type": "code",
   "execution_count": 23,
   "metadata": {},
   "outputs": [],
   "source": [
    "Predictors = pd.DataFrame({\n",
    "    \"day7\": eur_usd_daily.Open.shift(7),\n",
    "    \"day6\": eur_usd_daily.Open.shift(6),\n",
    "    \"day5\": eur_usd_daily.Open.shift(5),\n",
    "    \"day4\": eur_usd_daily.Open.shift(4),\n",
    "    \"day3\": eur_usd_daily.Open.shift(3),\n",
    "    \"day2\": eur_usd_daily.Open.shift(2),\n",
    "    \"day1\": eur_usd_daily.Open.shift(1),\n",
    "}).dropna()"
   ]
  },
  {
   "cell_type": "code",
   "execution_count": 24,
   "metadata": {},
   "outputs": [
    {
     "data": {
      "text/html": [
       "<div>\n",
       "<style>\n",
       "    .dataframe thead tr:only-child th {\n",
       "        text-align: right;\n",
       "    }\n",
       "\n",
       "    .dataframe thead th {\n",
       "        text-align: left;\n",
       "    }\n",
       "\n",
       "    .dataframe tbody tr th {\n",
       "        vertical-align: top;\n",
       "    }\n",
       "</style>\n",
       "<table border=\"1\" class=\"dataframe\">\n",
       "  <thead>\n",
       "    <tr style=\"text-align: right;\">\n",
       "      <th></th>\n",
       "      <th>day1</th>\n",
       "      <th>day2</th>\n",
       "      <th>day3</th>\n",
       "      <th>day4</th>\n",
       "      <th>day5</th>\n",
       "      <th>day6</th>\n",
       "      <th>day7</th>\n",
       "    </tr>\n",
       "    <tr>\n",
       "      <th>Time</th>\n",
       "      <th></th>\n",
       "      <th></th>\n",
       "      <th></th>\n",
       "      <th></th>\n",
       "      <th></th>\n",
       "      <th></th>\n",
       "      <th></th>\n",
       "    </tr>\n",
       "  </thead>\n",
       "  <tbody>\n",
       "    <tr>\n",
       "      <th>2010-01-08</th>\n",
       "      <td>1.435275</td>\n",
       "      <td>1.436886</td>\n",
       "      <td>1.440934</td>\n",
       "      <td>1.436392</td>\n",
       "      <td>1.433221</td>\n",
       "      <td>1.433350</td>\n",
       "      <td>1.433060</td>\n",
       "    </tr>\n",
       "    <tr>\n",
       "      <th>2010-01-09</th>\n",
       "      <td>1.434374</td>\n",
       "      <td>1.435275</td>\n",
       "      <td>1.436886</td>\n",
       "      <td>1.440934</td>\n",
       "      <td>1.436392</td>\n",
       "      <td>1.433221</td>\n",
       "      <td>1.433350</td>\n",
       "    </tr>\n",
       "    <tr>\n",
       "      <th>2010-01-10</th>\n",
       "      <td>1.440830</td>\n",
       "      <td>1.434374</td>\n",
       "      <td>1.435275</td>\n",
       "      <td>1.436886</td>\n",
       "      <td>1.440934</td>\n",
       "      <td>1.436392</td>\n",
       "      <td>1.433221</td>\n",
       "    </tr>\n",
       "    <tr>\n",
       "      <th>2010-01-11</th>\n",
       "      <td>1.440978</td>\n",
       "      <td>1.440830</td>\n",
       "      <td>1.434374</td>\n",
       "      <td>1.435275</td>\n",
       "      <td>1.436886</td>\n",
       "      <td>1.440934</td>\n",
       "      <td>1.436392</td>\n",
       "    </tr>\n",
       "    <tr>\n",
       "      <th>2010-01-12</th>\n",
       "      <td>1.451217</td>\n",
       "      <td>1.440978</td>\n",
       "      <td>1.440830</td>\n",
       "      <td>1.434374</td>\n",
       "      <td>1.435275</td>\n",
       "      <td>1.436886</td>\n",
       "      <td>1.440934</td>\n",
       "    </tr>\n",
       "  </tbody>\n",
       "</table>\n",
       "</div>"
      ],
      "text/plain": [
       "                day1      day2      day3      day4      day5      day6  \\\n",
       "Time                                                                     \n",
       "2010-01-08  1.435275  1.436886  1.440934  1.436392  1.433221  1.433350   \n",
       "2010-01-09  1.434374  1.435275  1.436886  1.440934  1.436392  1.433221   \n",
       "2010-01-10  1.440830  1.434374  1.435275  1.436886  1.440934  1.436392   \n",
       "2010-01-11  1.440978  1.440830  1.434374  1.435275  1.436886  1.440934   \n",
       "2010-01-12  1.451217  1.440978  1.440830  1.434374  1.435275  1.436886   \n",
       "\n",
       "                day7  \n",
       "Time                  \n",
       "2010-01-08  1.433060  \n",
       "2010-01-09  1.433350  \n",
       "2010-01-10  1.433221  \n",
       "2010-01-11  1.436392  \n",
       "2010-01-12  1.440934  "
      ]
     },
     "execution_count": 24,
     "metadata": {},
     "output_type": "execute_result"
    }
   ],
   "source": [
    "Predictors.head()\n"
   ]
  },
  {
   "cell_type": "code",
   "execution_count": 25,
   "metadata": {},
   "outputs": [],
   "source": [
    "target = pd.DataFrame({'value': eur_usd_daily.Open}).dropna()"
   ]
  },
  {
   "cell_type": "code",
   "execution_count": 29,
   "metadata": {},
   "outputs": [],
   "source": [
    "def timeseries_train_test_split(X, y, test_size):\n",
    "    \"\"\"\n",
    "        Perform train-test split with respect to time series structure\n",
    "    \"\"\"\n",
    "    \n",
    "    # get the index after which test set starts\n",
    "    test_index = int(len(X)*(1-test_size))\n",
    "    \n",
    "    X_train = X.iloc[:test_index]\n",
    "    y_train = y.iloc[:test_index]\n",
    "    X_test = X.iloc[test_index:]\n",
    "    y_test = y.iloc[test_index:]\n",
    "    \n",
    "    return X_train, X_test, y_train, y_test"
   ]
  },
  {
   "cell_type": "code",
   "execution_count": 60,
   "metadata": {},
   "outputs": [],
   "source": [
    "# drops index values if they are not present in both target and Predictors\n",
    "X = pd.merge(Predictors, target, left_index=True, right_index=True)[Predictors.columns]\n",
    "y = pd.merge(Predictors, target, left_index=True, right_index=True)[target.columns]\n",
    "\n",
    "test_size = 0.002\n",
    "X_train, X_test, y_train, y_test = timeseries_train_test_split(X, y, test_size=test_size)"
   ]
  },
  {
   "cell_type": "code",
   "execution_count": 61,
   "metadata": {},
   "outputs": [],
   "source": [
    "regressor = xgb.XGBRegressor(gamma=0.0,n_estimators=150,base_score=0.7,colsample_bytree=1,learning_rate=0.01)\n",
    " \n",
    "xgbModel = regressor.fit(X_train,y_train)\n",
    "y_predicted = xgbModel.predict(X_test)"
   ]
  },
  {
   "cell_type": "code",
   "execution_count": 62,
   "metadata": {},
   "outputs": [],
   "source": [
    "#print(accuracy_score(y_test, y_predicted))\n",
    "#pyplot.plot(X_test['Objectivity'])\n",
    "#pyplot.plot(y_predicted)\n",
    "test_index = int(len(X)*(1-test_size))\n",
    "result = pd.DataFrame({\n",
    "    'test': y_test.value,\n",
    "    'predicted': y_predicted\n",
    "},\n",
    "index = y_test.index)\n",
    "#pyplot.show()"
   ]
  },
  {
   "cell_type": "code",
   "execution_count": 63,
   "metadata": {},
   "outputs": [
    {
     "data": {
      "text/plain": [
       "(6,)"
      ]
     },
     "execution_count": 63,
     "metadata": {},
     "output_type": "execute_result"
    }
   ],
   "source": [
    "type(y_predicted)\n",
    "y_predicted.shape"
   ]
  },
  {
   "cell_type": "code",
   "execution_count": 64,
   "metadata": {},
   "outputs": [
    {
     "data": {
      "text/plain": [
       "pandas.core.frame.DataFrame"
      ]
     },
     "execution_count": 64,
     "metadata": {},
     "output_type": "execute_result"
    }
   ],
   "source": [
    "type(y_test)"
   ]
  },
  {
   "cell_type": "code",
   "execution_count": 65,
   "metadata": {},
   "outputs": [
    {
     "data": {
      "text/html": [
       "<div>\n",
       "<style>\n",
       "    .dataframe thead tr:only-child th {\n",
       "        text-align: right;\n",
       "    }\n",
       "\n",
       "    .dataframe thead th {\n",
       "        text-align: left;\n",
       "    }\n",
       "\n",
       "    .dataframe tbody tr th {\n",
       "        vertical-align: top;\n",
       "    }\n",
       "</style>\n",
       "<table border=\"1\" class=\"dataframe\">\n",
       "  <thead>\n",
       "    <tr style=\"text-align: right;\">\n",
       "      <th></th>\n",
       "      <th>value</th>\n",
       "    </tr>\n",
       "    <tr>\n",
       "      <th>Time</th>\n",
       "      <th></th>\n",
       "    </tr>\n",
       "  </thead>\n",
       "  <tbody>\n",
       "    <tr>\n",
       "      <th>2016-12-26</th>\n",
       "      <td>1.045348</td>\n",
       "    </tr>\n",
       "    <tr>\n",
       "      <th>2016-12-27</th>\n",
       "      <td>1.044936</td>\n",
       "    </tr>\n",
       "    <tr>\n",
       "      <th>2016-12-28</th>\n",
       "      <td>1.043043</td>\n",
       "    </tr>\n",
       "    <tr>\n",
       "      <th>2016-12-29</th>\n",
       "      <td>1.046375</td>\n",
       "    </tr>\n",
       "    <tr>\n",
       "      <th>2016-12-30</th>\n",
       "      <td>1.053831</td>\n",
       "    </tr>\n",
       "  </tbody>\n",
       "</table>\n",
       "</div>"
      ],
      "text/plain": [
       "               value\n",
       "Time                \n",
       "2016-12-26  1.045348\n",
       "2016-12-27  1.044936\n",
       "2016-12-28  1.043043\n",
       "2016-12-29  1.046375\n",
       "2016-12-30  1.053831"
      ]
     },
     "execution_count": 65,
     "metadata": {},
     "output_type": "execute_result"
    }
   ],
   "source": [
    "y_test.head()"
   ]
  },
  {
   "cell_type": "code",
   "execution_count": 66,
   "metadata": {},
   "outputs": [
    {
     "data": {
      "text/plain": [
       "(6, 2)"
      ]
     },
     "execution_count": 66,
     "metadata": {},
     "output_type": "execute_result"
    }
   ],
   "source": [
    "result.shape"
   ]
  },
  {
   "cell_type": "code",
   "execution_count": 67,
   "metadata": {},
   "outputs": [
    {
     "data": {
      "text/html": [
       "<div>\n",
       "<style>\n",
       "    .dataframe thead tr:only-child th {\n",
       "        text-align: right;\n",
       "    }\n",
       "\n",
       "    .dataframe thead th {\n",
       "        text-align: left;\n",
       "    }\n",
       "\n",
       "    .dataframe tbody tr th {\n",
       "        vertical-align: top;\n",
       "    }\n",
       "</style>\n",
       "<table border=\"1\" class=\"dataframe\">\n",
       "  <thead>\n",
       "    <tr style=\"text-align: right;\">\n",
       "      <th></th>\n",
       "      <th>predicted</th>\n",
       "      <th>test</th>\n",
       "    </tr>\n",
       "    <tr>\n",
       "      <th>Time</th>\n",
       "      <th></th>\n",
       "      <th></th>\n",
       "    </tr>\n",
       "  </thead>\n",
       "  <tbody>\n",
       "    <tr>\n",
       "      <th>2016-12-26</th>\n",
       "      <td>0.98365</td>\n",
       "      <td>1.045348</td>\n",
       "    </tr>\n",
       "    <tr>\n",
       "      <th>2016-12-27</th>\n",
       "      <td>0.98365</td>\n",
       "      <td>1.044936</td>\n",
       "    </tr>\n",
       "    <tr>\n",
       "      <th>2016-12-28</th>\n",
       "      <td>0.98365</td>\n",
       "      <td>1.043043</td>\n",
       "    </tr>\n",
       "    <tr>\n",
       "      <th>2016-12-29</th>\n",
       "      <td>0.98365</td>\n",
       "      <td>1.046375</td>\n",
       "    </tr>\n",
       "    <tr>\n",
       "      <th>2016-12-30</th>\n",
       "      <td>0.98365</td>\n",
       "      <td>1.053831</td>\n",
       "    </tr>\n",
       "  </tbody>\n",
       "</table>\n",
       "</div>"
      ],
      "text/plain": [
       "            predicted      test\n",
       "Time                           \n",
       "2016-12-26    0.98365  1.045348\n",
       "2016-12-27    0.98365  1.044936\n",
       "2016-12-28    0.98365  1.043043\n",
       "2016-12-29    0.98365  1.046375\n",
       "2016-12-30    0.98365  1.053831"
      ]
     },
     "execution_count": 67,
     "metadata": {},
     "output_type": "execute_result"
    }
   ],
   "source": [
    "result.head()"
   ]
  },
  {
   "cell_type": "code",
   "execution_count": 68,
   "metadata": {},
   "outputs": [
    {
     "data": {
      "image/png": "[encoded data removed]",
      "text/plain": [
       "<matplotlib.figure.Figure at 0x22c834e0860>"
      ]
     },
     "metadata": {
      "needs_background": "light"
     },
     "output_type": "display_data"
    }
   ],
   "source": [
    "pyplot.plot(result.predicted)\n",
    "pyplot.plot(result.test)\n",
    "pyplot.legend()\n",
    "pyplot.show()"
   ]
  },
  {
   "cell_type": "code",
   "execution_count": 69,
   "metadata": {},
   "outputs": [
    {
     "data": {
      "text/html": [
       "<div>\n",
       "<style>\n",
       "    .dataframe thead tr:only-child th {\n",
       "        text-align: right;\n",
       "    }\n",
       "\n",
       "    .dataframe thead th {\n",
       "        text-align: left;\n",
       "    }\n",
       "\n",
       "    .dataframe tbody tr th {\n",
       "        vertical-align: top;\n",
       "    }\n",
       "</style>\n",
       "<table border=\"1\" class=\"dataframe\">\n",
       "  <thead>\n",
       "    <tr style=\"text-align: right;\">\n",
       "      <th></th>\n",
       "      <th>Open</th>\n",
       "      <th>High</th>\n",
       "      <th>Low</th>\n",
       "      <th>Close</th>\n",
       "      <th>Volume</th>\n",
       "    </tr>\n",
       "    <tr>\n",
       "      <th>Time</th>\n",
       "      <th></th>\n",
       "      <th></th>\n",
       "      <th></th>\n",
       "      <th></th>\n",
       "      <th></th>\n",
       "    </tr>\n",
       "  </thead>\n",
       "  <tbody>\n",
       "    <tr>\n",
       "      <th>2010-01-01 00:00:00</th>\n",
       "      <td>1.43283</td>\n",
       "      <td>1.43293</td>\n",
       "      <td>1.43224</td>\n",
       "      <td>1.43293</td>\n",
       "      <td>608600007.1</td>\n",
       "    </tr>\n",
       "    <tr>\n",
       "      <th>2010-01-01 00:15:00</th>\n",
       "      <td>1.43285</td>\n",
       "      <td>1.43295</td>\n",
       "      <td>1.43229</td>\n",
       "      <td>1.43275</td>\n",
       "      <td>535600003.2</td>\n",
       "    </tr>\n",
       "    <tr>\n",
       "      <th>2010-01-01 00:30:00</th>\n",
       "      <td>1.43280</td>\n",
       "      <td>1.43303</td>\n",
       "      <td>1.43239</td>\n",
       "      <td>1.43281</td>\n",
       "      <td>436299999.2</td>\n",
       "    </tr>\n",
       "    <tr>\n",
       "      <th>2010-01-01 00:45:00</th>\n",
       "      <td>1.43285</td>\n",
       "      <td>1.43294</td>\n",
       "      <td>1.43229</td>\n",
       "      <td>1.43276</td>\n",
       "      <td>614299997.3</td>\n",
       "    </tr>\n",
       "    <tr>\n",
       "      <th>2010-01-01 01:00:00</th>\n",
       "      <td>1.43287</td>\n",
       "      <td>1.43292</td>\n",
       "      <td>1.43206</td>\n",
       "      <td>1.43282</td>\n",
       "      <td>705300008.8</td>\n",
       "    </tr>\n",
       "  </tbody>\n",
       "</table>\n",
       "</div>"
      ],
      "text/plain": [
       "                        Open     High      Low    Close       Volume\n",
       "Time                                                                \n",
       "2010-01-01 00:00:00  1.43283  1.43293  1.43224  1.43293  608600007.1\n",
       "2010-01-01 00:15:00  1.43285  1.43295  1.43229  1.43275  535600003.2\n",
       "2010-01-01 00:30:00  1.43280  1.43303  1.43239  1.43281  436299999.2\n",
       "2010-01-01 00:45:00  1.43285  1.43294  1.43229  1.43276  614299997.3\n",
       "2010-01-01 01:00:00  1.43287  1.43292  1.43206  1.43282  705300008.8"
      ]
     },
     "execution_count": 69,
     "metadata": {},
     "output_type": "execute_result"
    }
   ],
   "source": [
    "def arrange_data(data, beforeCount)"
   ]
  },
  {
   "cell_type": "code",
   "execution_count": null,
   "metadata": {},
   "outputs": [],
   "source": []
  }
 ],
 "metadata": {
  "kernelspec": {
   "display_name": "Python 3",
   "language": "python",
   "name": "python3"
  },
  "language_info": {
   "codemirror_mode": {
    "name": "ipython",
    "version": 3
   },
   "file_extension": ".py",
   "mimetype": "text/x-python",
   "name": "python",
   "nbconvert_exporter": "python",
   "pygments_lexer": "ipython3",
   "version": "3.6.2"
  }
 },
 "nbformat": 4,
 "nbformat_minor": 2
}
